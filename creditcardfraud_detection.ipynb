{
  "cells": [
    {
      "cell_type": "code",
      "execution_count": null,
      "metadata": {
        "id": "AlOCsXnIPQir"
      },
      "outputs": [],
      "source": [
        "import pandas as pd\n",
        "import numpy as np\n",
        "import matplotlib.pyplot as plt\n",
        "from matplotlib import pyplot\n",
        "import seaborn as sns\n",
        "\n",
        "from numpy import quantile\n",
        "from sklearn.model_selection import train_test_split\n",
        "from sklearn.preprocessing import StandardScaler\n",
        "\n",
        "from sklearn.ensemble import IsolationForest\n",
        "from sklearn.neighbors import LocalOutlierFactor\n",
        "from sklearn import linear_model\n",
        "from sklearn.linear_model import SGDOneClassSVM\n",
        "\n",
        "from sklearn.metrics import classification_report,accuracy_score\n",
        "from sklearn.metrics import confusion_matrix,f1_score"
      ]
    },
    {
      "cell_type": "code",
      "execution_count": null,
      "metadata": {
        "colab": {
          "base_uri": "https://localhost:8080/",
          "height": 316
        },
        "id": "bjMBpVJ7P-M0",
        "outputId": "fa7ba0ec-5bc3-4f46-e8ba-020c3a75f442"
      },
      "outputs": [
        {
          "output_type": "error",
          "ename": "ValueError",
          "evalue": "mount failed",
          "traceback": [
            "\u001b[0;31m---------------------------------------------------------------------------\u001b[0m",
            "\u001b[0;31mValueError\u001b[0m                                Traceback (most recent call last)",
            "\u001b[0;32m<ipython-input-2-d5df0069828e>\u001b[0m in \u001b[0;36m<cell line: 2>\u001b[0;34m()\u001b[0m\n\u001b[1;32m      1\u001b[0m \u001b[0;32mfrom\u001b[0m \u001b[0mgoogle\u001b[0m\u001b[0;34m.\u001b[0m\u001b[0mcolab\u001b[0m \u001b[0;32mimport\u001b[0m \u001b[0mdrive\u001b[0m\u001b[0;34m\u001b[0m\u001b[0;34m\u001b[0m\u001b[0m\n\u001b[0;32m----> 2\u001b[0;31m \u001b[0mdrive\u001b[0m\u001b[0;34m.\u001b[0m\u001b[0mmount\u001b[0m\u001b[0;34m(\u001b[0m\u001b[0;34m'/content/drive'\u001b[0m\u001b[0;34m)\u001b[0m\u001b[0;34m\u001b[0m\u001b[0;34m\u001b[0m\u001b[0m\n\u001b[0m",
            "\u001b[0;32m/usr/local/lib/python3.10/dist-packages/google/colab/drive.py\u001b[0m in \u001b[0;36mmount\u001b[0;34m(mountpoint, force_remount, timeout_ms, readonly)\u001b[0m\n\u001b[1;32m     98\u001b[0m \u001b[0;32mdef\u001b[0m \u001b[0mmount\u001b[0m\u001b[0;34m(\u001b[0m\u001b[0mmountpoint\u001b[0m\u001b[0;34m,\u001b[0m \u001b[0mforce_remount\u001b[0m\u001b[0;34m=\u001b[0m\u001b[0;32mFalse\u001b[0m\u001b[0;34m,\u001b[0m \u001b[0mtimeout_ms\u001b[0m\u001b[0;34m=\u001b[0m\u001b[0;36m120000\u001b[0m\u001b[0;34m,\u001b[0m \u001b[0mreadonly\u001b[0m\u001b[0;34m=\u001b[0m\u001b[0;32mFalse\u001b[0m\u001b[0;34m)\u001b[0m\u001b[0;34m:\u001b[0m\u001b[0;34m\u001b[0m\u001b[0;34m\u001b[0m\u001b[0m\n\u001b[1;32m     99\u001b[0m   \u001b[0;34m\"\"\"Mount your Google Drive at the specified mountpoint path.\"\"\"\u001b[0m\u001b[0;34m\u001b[0m\u001b[0;34m\u001b[0m\u001b[0m\n\u001b[0;32m--> 100\u001b[0;31m   return _mount(\n\u001b[0m\u001b[1;32m    101\u001b[0m       \u001b[0mmountpoint\u001b[0m\u001b[0;34m,\u001b[0m\u001b[0;34m\u001b[0m\u001b[0;34m\u001b[0m\u001b[0m\n\u001b[1;32m    102\u001b[0m       \u001b[0mforce_remount\u001b[0m\u001b[0;34m=\u001b[0m\u001b[0mforce_remount\u001b[0m\u001b[0;34m,\u001b[0m\u001b[0;34m\u001b[0m\u001b[0;34m\u001b[0m\u001b[0m\n",
            "\u001b[0;32m/usr/local/lib/python3.10/dist-packages/google/colab/drive.py\u001b[0m in \u001b[0;36m_mount\u001b[0;34m(mountpoint, force_remount, timeout_ms, ephemeral, readonly)\u001b[0m\n\u001b[1;32m    275\u001b[0m             \u001b[0;34m'https://research.google.com/colaboratory/faq.html#drive-timeout'\u001b[0m\u001b[0;34m\u001b[0m\u001b[0;34m\u001b[0m\u001b[0m\n\u001b[1;32m    276\u001b[0m         )\n\u001b[0;32m--> 277\u001b[0;31m       \u001b[0;32mraise\u001b[0m \u001b[0mValueError\u001b[0m\u001b[0;34m(\u001b[0m\u001b[0;34m'mount failed'\u001b[0m \u001b[0;34m+\u001b[0m \u001b[0mextra_reason\u001b[0m\u001b[0;34m)\u001b[0m\u001b[0;34m\u001b[0m\u001b[0;34m\u001b[0m\u001b[0m\n\u001b[0m\u001b[1;32m    278\u001b[0m     \u001b[0;32melif\u001b[0m \u001b[0mcase\u001b[0m \u001b[0;34m==\u001b[0m \u001b[0;36m4\u001b[0m\u001b[0;34m:\u001b[0m\u001b[0;34m\u001b[0m\u001b[0;34m\u001b[0m\u001b[0m\n\u001b[1;32m    279\u001b[0m       \u001b[0;31m# Terminate the DriveFS binary before killing bash.\u001b[0m\u001b[0;34m\u001b[0m\u001b[0;34m\u001b[0m\u001b[0m\n",
            "\u001b[0;31mValueError\u001b[0m: mount failed"
          ]
        }
      ],
      "source": [
        "from google.colab import drive\n",
        "drive.mount('/content/drive')"
      ]
    },
    {
      "cell_type": "code",
      "execution_count": null,
      "metadata": {
        "id": "-FZjIRAPZstS"
      },
      "outputs": [],
      "source": [
        "!ls /content/drive/My\\ Drive/creditcard.csv"
      ]
    },
    {
      "cell_type": "code",
      "execution_count": null,
      "metadata": {
        "id": "Wi-nsAaSc05Z"
      },
      "outputs": [],
      "source": [
        "df = pd.read_csv('/content/drive/My Drive/creditcard.csv', on_bad_lines='skip') # Use on_bad_lines='skip' to replace the deprecated 'error_bad_lines=False'"
      ]
    },
    {
      "cell_type": "code",
      "execution_count": null,
      "metadata": {
        "id": "92Ai0CLXeKx6"
      },
      "outputs": [],
      "source": [
        "df.head()"
      ]
    },
    {
      "cell_type": "code",
      "execution_count": null,
      "metadata": {
        "id": "WNaHFbAYeO2h"
      },
      "outputs": [],
      "source": [
        "#shape of data\n",
        "df.shape"
      ]
    },
    {
      "cell_type": "code",
      "execution_count": null,
      "metadata": {
        "id": "lX5bsDQEeR4v"
      },
      "outputs": [],
      "source": [
        "df.info()"
      ]
    },
    {
      "cell_type": "code",
      "execution_count": null,
      "metadata": {
        "id": "0kan4rCWeVHZ"
      },
      "outputs": [],
      "source": [
        "df.isnull().sum()"
      ]
    },
    {
      "cell_type": "code",
      "execution_count": null,
      "metadata": {
        "id": "qxaAmFeaejm0"
      },
      "outputs": [],
      "source": [
        "df['Class'].value_counts()"
      ]
    },
    {
      "cell_type": "code",
      "execution_count": null,
      "metadata": {
        "id": "ioI0OWfAesEB"
      },
      "outputs": [],
      "source": [
        "# Filter the DataFrame to create df_fraud and df_normal\n",
        "df_fraud = df[df['Class'] == 1]\n",
        "df_normal = df[df['Class'] == 0]"
      ]
    },
    {
      "cell_type": "code",
      "execution_count": null,
      "metadata": {
        "id": "UaQYJoUwe4oN"
      },
      "outputs": [],
      "source": [
        "outlier_fraction = len(df_fraud)/float(len(df_normal))"
      ]
    },
    {
      "cell_type": "code",
      "execution_count": null,
      "metadata": {
        "id": "KhSYuh9nfU3W"
      },
      "outputs": [],
      "source": [
        "print(outlier_fraction)\n",
        "print(\"Fraud Cases : {}\".format(len(df_fraud)))\n",
        "print(\"Normal Cases : {}\".format(len(df_normal)))"
      ]
    },
    {
      "cell_type": "code",
      "execution_count": null,
      "metadata": {
        "id": "jx0oLD2bfXf3"
      },
      "outputs": [],
      "source": [
        "classes = pd.value_counts(df['Class'], sort = True)\n",
        "classes.plot(kind = 'bar', rot=0)\n",
        "plt.title(\"Transaction Class Distribution\")\n",
        "plt.xticks(range(2), labels = [\"Normal\", \"Fraud\"])\n",
        "plt.xlabel(\"Class\")\n",
        "plt.ylabel(\"Frequency\");"
      ]
    },
    {
      "cell_type": "code",
      "execution_count": null,
      "metadata": {
        "id": "jqtq8svRfc2-"
      },
      "outputs": [],
      "source": [
        "df[['Class', 'Amount', 'Time', 'V1', 'V2', 'V3', 'V4', 'V5']].describe()"
      ]
    },
    {
      "cell_type": "code",
      "execution_count": null,
      "metadata": {
        "id": "hqbGHwMKfgLG"
      },
      "outputs": [],
      "source": [
        "df.hist(figsize=(20, 15), bins=50);"
      ]
    },
    {
      "cell_type": "code",
      "execution_count": null,
      "metadata": {
        "id": "pGa54UvTf6wI"
      },
      "outputs": [],
      "source": [
        "df['Time'] = df['Time'].apply(lambda x : x / 3600)"
      ]
    },
    {
      "cell_type": "code",
      "execution_count": null,
      "metadata": {
        "id": "KNFlj7Qyf9Mt"
      },
      "outputs": [],
      "source": [
        "sns.distplot(df['Time'])\n",
        "plt.title(\"Distribution of Time\")\n",
        "sns.despine();"
      ]
    },
    {
      "cell_type": "code",
      "execution_count": null,
      "metadata": {
        "id": "PnyGYelvgC4e"
      },
      "outputs": [],
      "source": [
        "df_normal = df[df['Class']==0]\n",
        "df_fraud = df[df['Class']==1]"
      ]
    },
    {
      "cell_type": "code",
      "execution_count": null,
      "metadata": {
        "id": "nD9neFHSgI9f"
      },
      "outputs": [],
      "source": [
        "print(df_normal.Amount.describe())\n",
        "print('----------------')\n",
        "print(df_fraud.Amount.describe())"
      ]
    },
    {
      "cell_type": "code",
      "execution_count": null,
      "metadata": {
        "id": "_DvySN4ZgSfF"
      },
      "outputs": [],
      "source": [
        "bins = np.linspace(100, 2000, 100)\n",
        "plt.figure(figsize=(12, 6))\n",
        "plt.hist(df_normal.Amount, bins, alpha=1, density=True, label='Normal')\n",
        "plt.hist(df_fraud.Amount, bins, alpha=0.6, density=True, label='Fraud', color='crimson')\n",
        "plt.legend(loc='upper right')\n",
        "plt.title(\"Amount by percentage of transactions (transactions over \\$100)\")\n",
        "plt.xlabel(\"Transaction amount (USD)\")\n",
        "plt.ylabel(\"Percentage of transactions (%)\");\n",
        "plt.show()"
      ]
    },
    {
      "cell_type": "code",
      "execution_count": null,
      "metadata": {
        "id": "A-Gi_jhjgWqF"
      },
      "outputs": [],
      "source": [
        "bins = np.linspace(0, 50, 50)\n",
        "plt.figure(figsize=(12, 6))\n",
        "plt.hist(df_normal.Time, bins, alpha=0.6, density=True, label='Normal', color='blue')\n",
        "plt.hist(df_fraud.Time, bins, alpha=0.6, density=True, label='Fraud', color='crimson')\n",
        "plt.legend(loc='upper right')\n",
        "plt.title(\"Percentage of transactions by hour\")\n",
        "plt.xlabel(\"Transaction time from first transaction in the dataset (hours)\")\n",
        "plt.ylabel(\"Percentage of transactions (%)\");\n",
        "plt.show()"
      ]
    },
    {
      "cell_type": "code",
      "execution_count": null,
      "metadata": {
        "id": "CFurQcmNgmV0"
      },
      "outputs": [],
      "source": [
        "plt.figure(figsize=(12, 6))\n",
        "plt.scatter(df_normal.Time, df_normal.Amount, alpha=0.6, label='Normal')\n",
        "plt.scatter(df_fraud.Time, df_fraud.Amount, alpha=0.9, label='Fraud')\n",
        "plt.title(\"Amount of transaction by hour\")\n",
        "plt.xlabel(\"Transaction time from first transaction in the dataset (hours)\")\n",
        "plt.ylabel('Amount (USD)')\n",
        "plt.legend(loc='upper right')\n",
        "plt.show()"
      ]
    },
    {
      "cell_type": "code",
      "execution_count": null,
      "metadata": {
        "id": "XVdHcLg4gr6U"
      },
      "outputs": [],
      "source": [
        "corr = df.corr()\n",
        "\n",
        "plt.figure(figsize=(20,8))\n",
        "ax = sns.heatmap(corr.round(2), annot = True, linewidth=0.5, fmt='0.1f', cmap = 'coolwarm')\n",
        "ax.set_ylim(sorted(ax.get_xlim(), reverse=True))\n",
        "ax.set(title=\"Correlation Matrix\");\n",
        "plt.show()"
      ]
    },
    {
      "cell_type": "code",
      "execution_count": null,
      "metadata": {
        "id": "rbC2FDuygvsE"
      },
      "outputs": [],
      "source": [
        "df_norm = df.copy()"
      ]
    },
    {
      "cell_type": "code",
      "execution_count": null,
      "metadata": {
        "id": "gBIrQ43ggyVk"
      },
      "outputs": [],
      "source": [
        "df_norm['Time'] = StandardScaler().fit_transform(df_norm['Time'].values.reshape(-1, 1))\n",
        "df_norm['Amount'] = StandardScaler().fit_transform(df_norm['Amount'].values.reshape(-1, 1))"
      ]
    },
    {
      "cell_type": "code",
      "execution_count": null,
      "metadata": {
        "id": "ZVAtzKC1g00c"
      },
      "outputs": [],
      "source": [
        "train, test = train_test_split(df_norm, test_size=0.3, random_state = 10)"
      ]
    },
    {
      "cell_type": "code",
      "execution_count": null,
      "metadata": {
        "id": "8GOSYCv-g3g1"
      },
      "outputs": [],
      "source": [
        "X_train = train[train['Class'] == 0]\n",
        "X_train = X_train.drop(['Class'], axis=1)\n",
        "\n",
        "X_test = test.drop(['Class'], axis=1)\n",
        "y_test = test['Class']"
      ]
    },
    {
      "cell_type": "code",
      "execution_count": null,
      "metadata": {
        "id": "wFrrOY2Gg6NN"
      },
      "outputs": [],
      "source": [
        "print(f'X_train shape: {X_train.shape};')\n",
        "print(f'X_test shape: {X_test.shape}; y_test shape: {y_test.shape}')"
      ]
    },
    {
      "cell_type": "code",
      "execution_count": null,
      "metadata": {
        "id": "wszT4Zncg6OU"
      },
      "outputs": [],
      "source": [
        "model_iF = IsolationForest(n_estimators=20, max_samples='auto',\n",
        "                           contamination=0.01, random_state=42, verbose=2)\n",
        "model_iF.fit(X_train)"
      ]
    },
    {
      "cell_type": "code",
      "execution_count": null,
      "metadata": {
        "id": "oZjUBn9AhCal"
      },
      "outputs": [],
      "source": [
        "y_pred = model_iF.predict(X_test)"
      ]
    },
    {
      "cell_type": "code",
      "execution_count": null,
      "metadata": {
        "id": "LK4os1zjhEW1"
      },
      "outputs": [],
      "source": [
        "y_pred[y_pred == 1] = 0\n",
        "y_pred[y_pred == -1] = 1"
      ]
    },
    {
      "cell_type": "code",
      "execution_count": null,
      "metadata": {
        "id": "o-O1SCRYhGt8"
      },
      "outputs": [],
      "source": [
        "print(\"Accuracy Score :\")\n",
        "print(accuracy_score(y_test, y_pred))\n",
        "print(\"Classification Report :\")\n",
        "print(classification_report(y_test, y_pred))"
      ]
    },
    {
      "cell_type": "code",
      "execution_count": null,
      "metadata": {
        "id": "jXSmuF8UhVOl"
      },
      "outputs": [],
      "source": [
        "f1_score(y_test, y_pred)"
      ]
    },
    {
      "cell_type": "code",
      "execution_count": null,
      "metadata": {
        "id": "flS-zELEhkLk"
      },
      "outputs": [],
      "source": [
        "if_cm = confusion_matrix(y_test, y_pred)"
      ]
    },
    {
      "cell_type": "code",
      "execution_count": null,
      "metadata": {
        "id": "0j5hF_frhmlk"
      },
      "outputs": [],
      "source": [
        "def confusion_matrix_plot(cm):\n",
        "    df_cm = pd.DataFrame(cm,['True Normal','True Fraud'],['Pred Normal','Pred Fraud'])\n",
        "    plt.figure(figsize = (6,4))\n",
        "    ax = sns.heatmap(df_cm, annot=True,annot_kws={\"size\": 16},fmt='g')\n",
        "    ax.set_ylim(sorted(ax.get_xlim(), reverse=True))\n",
        "    plt.show()"
      ]
    },
    {
      "cell_type": "code",
      "execution_count": null,
      "metadata": {
        "id": "VC5Cg8jJhpJt"
      },
      "outputs": [],
      "source": [
        "confusion_matrix_plot(if_cm)"
      ]
    },
    {
      "cell_type": "code",
      "execution_count": null,
      "metadata": {
        "id": "CZXi0laAhwGs"
      },
      "outputs": [],
      "source": [
        "model_lf = LocalOutlierFactor(n_neighbors=2, contamination=0.1)\n",
        "model_lf.fit(X_train)"
      ]
    },
    {
      "cell_type": "code",
      "execution_count": null,
      "metadata": {
        "id": "gE2_3ufChyKM"
      },
      "outputs": [],
      "source": [
        "pred_y = model_lf.fit_predict(X_test)\n",
        "\n",
        "scores_pred = model_lf.negative_outlier_factor_"
      ]
    },
    {
      "cell_type": "code",
      "execution_count": null,
      "metadata": {
        "id": "fFf_kWJvhzok"
      },
      "outputs": [],
      "source": [
        "scores_pred"
      ]
    },
    {
      "cell_type": "code",
      "execution_count": null,
      "metadata": {
        "id": "VAyAB5MOiEGD"
      },
      "outputs": [],
      "source": [
        "thresh = quantile(scores_pred, .03)\n",
        "print(thresh)"
      ]
    },
    {
      "cell_type": "code",
      "execution_count": null,
      "metadata": {
        "id": "pPHWtcPHiHW7"
      },
      "outputs": [],
      "source": [
        "pred_y[pred_y == 1] = 0\n",
        "pred_y[pred_y == -1] = 1"
      ]
    },
    {
      "cell_type": "code",
      "execution_count": null,
      "metadata": {
        "id": "zyrBCXIkiJio"
      },
      "outputs": [],
      "source": [
        "print(\"Accuracy Score :\")\n",
        "print(accuracy_score(y_test, pred_y))\n",
        "print(\"Classification Report :\")\n",
        "print(classification_report(y_test, pred_y))"
      ]
    },
    {
      "cell_type": "code",
      "execution_count": null,
      "metadata": {
        "id": "9SZKmCMoiJj6"
      },
      "outputs": [],
      "source": [
        "lf_cm = confusion_matrix(y_test, pred_y)"
      ]
    },
    {
      "cell_type": "code",
      "execution_count": null,
      "metadata": {
        "id": "sVPKNhIVkY4i"
      },
      "outputs": [],
      "source": [
        "confusion_matrix_plot(lf_cm)"
      ]
    },
    {
      "cell_type": "code",
      "execution_count": null,
      "metadata": {
        "id": "25-Sq9yGkawx"
      },
      "outputs": [],
      "source": [
        "model_sgd = SGDOneClassSVM(random_state=42, nu = 0.1, fit_intercept=True, shuffle=True, tol=1e-4)\n",
        "model_sgd.fit(X_train)"
      ]
    },
    {
      "cell_type": "code",
      "execution_count": null,
      "metadata": {
        "id": "wXg3Y1lNkfOq"
      },
      "outputs": [],
      "source": [
        "pred = model_sgd.predict(X_test)"
      ]
    },
    {
      "cell_type": "code",
      "execution_count": null,
      "metadata": {
        "id": "t5F_fqUZkhL5"
      },
      "outputs": [],
      "source": [
        "pred[pred == 1] = 0\n",
        "pred[pred == -1] = 1"
      ]
    },
    {
      "cell_type": "code",
      "execution_count": null,
      "metadata": {
        "id": "YegbuCCjki6Q"
      },
      "outputs": [],
      "source": [
        "print(\"Accuracy Score :\")\n",
        "print(accuracy_score(y_test, pred))\n",
        "print(\"Classification Report :\")\n",
        "print(classification_report(y_test, pred))"
      ]
    },
    {
      "cell_type": "code",
      "execution_count": null,
      "metadata": {
        "id": "shA-SfbDkmFB"
      },
      "outputs": [],
      "source": [
        "svm_cm = confusion_matrix(y_test, pred)"
      ]
    },
    {
      "cell_type": "code",
      "execution_count": null,
      "metadata": {
        "id": "FzSfCPISknpE"
      },
      "outputs": [],
      "source": [
        "confusion_matrix_plot(svm_cm)"
      ]
    }
  ],
  "metadata": {
    "colab": {
      "provenance": [],
      "mount_file_id": "1yww4BlMk_Shi1kkkvwZaC7cT6TSFfXar",
      "authorship_tag": "ABX9TyOlQnANMNPtaWGwZZTFHlcp"
    },
    "kernelspec": {
      "display_name": "Python 3",
      "name": "python3"
    },
    "language_info": {
      "name": "python"
    }
  },
  "nbformat": 4,
  "nbformat_minor": 0
}